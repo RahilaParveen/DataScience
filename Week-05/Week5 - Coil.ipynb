{
 "cells": [
  {
   "cell_type": "code",
   "execution_count": 3,
   "metadata": {},
   "outputs": [],
   "source": [
    "import os, shutil\n",
    "original_dataset_dir = '../Datasets/coil-20-unproc/'\n",
    "base_dir = '../Datasets/coil-20-unproc/prepared/'\n",
    "if not(os.path.exists(base_dir)):\n",
    "    os.mkdir(base_dir)"
   ]
  },
  {
   "cell_type": "code",
   "execution_count": 4,
   "metadata": {},
   "outputs": [],
   "source": [
    "def prepare_data():\n",
    "    train_dir = os.path.join(base_dir, 'train')\n",
    "    os.mkdir(train_dir)\n",
    "    validation_dir = os.path.join(base_dir, 'validation')\n",
    "    os.mkdir(validation_dir)\n",
    "    test_dir = os.path.join(base_dir, 'test')\n",
    "    os.mkdir(test_dir)\n",
    "    \n",
    "    train_obj1_dir = os.path.join(train_dir, 'obj1')\n",
    "    os.mkdir(train_obj1_dir)\n",
    "    train_obj2_dir = os.path.join(train_dir, 'obj2')\n",
    "    os.mkdir(train_obj2_dir)\n",
    "    train_obj3_dir = os.path.join(train_dir, 'obj3')\n",
    "    os.mkdir(train_obj3_dir)\n",
    "    train_obj4_dir = os.path.join(train_dir, 'obj4')\n",
    "    os.mkdir(train_obj4_dir)\n",
    "    train_obj5_dir = os.path.join(train_dir, 'obj5')\n",
    "    os.mkdir(train_obj5_dir)\n",
    "\n",
    "    validation_obj1_dir = os.path.join(validation_dir, 'obj1')\n",
    "    os.mkdir(validation_obj1_dir)\n",
    "    validation_obj2_dir = os.path.join(validation_dir, 'obj2')\n",
    "    os.mkdir(validation_obj2_dir)\n",
    "    validation_obj3_dir = os.path.join(validation_dir, 'obj3')\n",
    "    os.mkdir(validation_obj3_dir)\n",
    "    validation_obj4_dir = os.path.join(validation_dir, 'obj4')\n",
    "    os.mkdir(validation_obj4_dir)\n",
    "    validation_obj5_dir = os.path.join(validation_dir, 'obj5')\n",
    "    os.mkdir(validation_obj5_dir)\n",
    "\n",
    "    test_obj1_dir = os.path.join(test_dir, 'obj1')\n",
    "    os.mkdir(test_obj1_dir)\n",
    "    test_obj2_dir = os.path.join(test_dir, 'obj2')\n",
    "    os.mkdir(test_obj2_dir)\n",
    "    test_obj3_dir = os.path.join(test_dir, 'obj3')\n",
    "    os.mkdir(test_obj3_dir)\n",
    "    test_obj4_dir = os.path.join(test_dir, 'obj4')\n",
    "    os.mkdir(test_obj4_dir)\n",
    "    test_obj5_dir = os.path.join(test_dir, 'obj5')\n",
    "    os.mkdir(test_obj5_dir)\n",
    "\n",
    "    fnames = ['obj1__{}.png'.format(i) for i in range(50)]\n",
    "    for fname in fnames:\n",
    "        src = os.path.join(original_dataset_dir, fname)\n",
    "        dst = os.path.join(train_obj1_dir, fname)\n",
    "        shutil.copyfile(src, dst)\n",
    "    fnames = ['obj1__{}.png'.format(i) for i in range(50, 62)]\n",
    "    for fname in fnames:\n",
    "        src = os.path.join(original_dataset_dir, fname)\n",
    "        dst = os.path.join(validation_obj1_dir, fname)\n",
    "        shutil.copyfile(src, dst)\n",
    "    fnames = ['obj1__{}.png'.format(i) for i in range(62, 72)]\n",
    "    for fname in fnames:\n",
    "        src = os.path.join(original_dataset_dir, fname)\n",
    "        dst = os.path.join(test_obj1_dir, fname)\n",
    "        shutil.copyfile(src, dst)\n",
    "\n",
    "    fnames = ['obj2__{}.png'.format(i) for i in range(50)]\n",
    "    for fname in fnames:\n",
    "        src = os.path.join(original_dataset_dir, fname)\n",
    "        dst = os.path.join(train_obj2_dir, fname)\n",
    "        shutil.copyfile(src, dst)\n",
    "    fnames = ['obj2__{}.png'.format(i) for i in range(50, 62)]\n",
    "    for fname in fnames:\n",
    "        src = os.path.join(original_dataset_dir, fname)\n",
    "        dst = os.path.join(validation_obj2_dir, fname)\n",
    "        shutil.copyfile(src, dst)\n",
    "    fnames = ['obj2__{}.png'.format(i) for i in range(62, 72)]\n",
    "    for fname in fnames:\n",
    "        src = os.path.join(original_dataset_dir, fname)\n",
    "        dst = os.path.join(test_obj2_dir, fname)\n",
    "        shutil.copyfile(src, dst)\n",
    "\n",
    "    fnames = ['obj3__{}.png'.format(i) for i in range(50)]\n",
    "    for fname in fnames:\n",
    "        src = os.path.join(original_dataset_dir, fname)\n",
    "        dst = os.path.join(train_obj3_dir, fname)\n",
    "        shutil.copyfile(src, dst)\n",
    "    fnames = ['obj3__{}.png'.format(i) for i in range(50, 62)]\n",
    "    for fname in fnames:\n",
    "        src = os.path.join(original_dataset_dir, fname)\n",
    "        dst = os.path.join(validation_obj3_dir, fname)\n",
    "        shutil.copyfile(src, dst)\n",
    "    fnames = ['obj3__{}.png'.format(i) for i in range(62, 72)]\n",
    "    for fname in fnames:\n",
    "        src = os.path.join(original_dataset_dir, fname)\n",
    "        dst = os.path.join(test_obj2_dir, fname)\n",
    "        shutil.copyfile(src, dst)\n",
    "\n",
    "    fnames = ['obj4__{}.png'.format(i) for i in range(50)]\n",
    "    for fname in fnames:\n",
    "        src = os.path.join(original_dataset_dir, fname)\n",
    "        dst = os.path.join(train_obj4_dir, fname)\n",
    "        shutil.copyfile(src, dst)\n",
    "    fnames = ['obj4__{}.png'.format(i) for i in range(50, 62)]\n",
    "    for fname in fnames:\n",
    "        src = os.path.join(original_dataset_dir, fname)\n",
    "        dst = os.path.join(validation_obj4_dir, fname)\n",
    "        shutil.copyfile(src, dst)\n",
    "    fnames = ['obj4__{}.png'.format(i) for i in range(62, 72)]\n",
    "    for fname in fnames:\n",
    "        src = os.path.join(original_dataset_dir, fname)\n",
    "        dst = os.path.join(test_obj4_dir, fname)\n",
    "        shutil.copyfile(src, dst)\n",
    "\n",
    "    fnames = ['obj5__{}.png'.format(i) for i in range(50)]\n",
    "    for fname in fnames:\n",
    "        src = os.path.join(original_dataset_dir, fname)\n",
    "        dst = os.path.join(train_obj5_dir, fname)\n",
    "        shutil.copyfile(src, dst)\n",
    "    fnames = ['obj5__{}.png'.format(i) for i in range(50, 62)]\n",
    "    for fname in fnames:\n",
    "        src = os.path.join(original_dataset_dir, fname)\n",
    "        dst = os.path.join(validation_obj5_dir, fname)\n",
    "        shutil.copyfile(src, dst)\n",
    "    fnames = ['obj5__{}.png'.format(i) for i in range(62, 72)]\n",
    "    for fname in fnames:\n",
    "        src = os.path.join(original_dataset_dir, fname)\n",
    "        dst = os.path.join(test_obj5_dir, fname)\n",
    "        shutil.copyfile(src, dst)"
   ]
  },
  {
   "cell_type": "code",
   "execution_count": 5,
   "metadata": {},
   "outputs": [],
   "source": [
    "train_dir = os.path.join(base_dir, 'train')\n",
    "validation_dir = os.path.join(base_dir, 'validation')\n",
    "test_dir = os.path.join(base_dir, 'test')\n",
    "\n",
    "if not(os.path.exists(train_dir) or os.path.exists(validation_dir) or os.path.exists(train_dir)):\n",
    "    prepare_data()"
   ]
  },
  {
   "cell_type": "code",
   "execution_count": 6,
   "metadata": {},
   "outputs": [
    {
     "name": "stderr",
     "output_type": "stream",
     "text": [
      "Using TensorFlow backend.\n"
     ]
    },
    {
     "name": "stdout",
     "output_type": "stream",
     "text": [
      "WARNING:tensorflow:From C:\\ProgramData\\Anaconda3\\lib\\site-packages\\tensorflow\\python\\framework\\op_def_library.py:263: colocate_with (from tensorflow.python.framework.ops) is deprecated and will be removed in a future version.\n",
      "Instructions for updating:\n",
      "Colocations handled automatically by placer.\n"
     ]
    }
   ],
   "source": [
    "from keras import layers\n",
    "from keras import models\n",
    "model = models.Sequential()\n",
    "model.add(layers.Conv2D(32, (3, 3), activation='relu', input_shape=(150, 150, 3)))\n",
    "model.add(layers.MaxPooling2D((2, 2)))\n",
    "model.add(layers.Conv2D(64, (3, 3), activation='relu'))\n",
    "model.add(layers.MaxPooling2D((2, 2)))\n",
    "model.add(layers.Conv2D(128, (3, 3), activation='relu'))\n",
    "model.add(layers.MaxPooling2D((2, 2)))\n",
    "model.add(layers.Conv2D(128, (3, 3), activation='relu'))\n",
    "model.add(layers.MaxPooling2D((2, 2)))\n",
    "model.add(layers.Flatten())\n",
    "model.add(layers.Dense(512, activation='relu'))\n",
    "model.add(layers.Dense(5, activation='softmax'))"
   ]
  },
  {
   "cell_type": "code",
   "execution_count": 7,
   "metadata": {},
   "outputs": [
    {
     "name": "stdout",
     "output_type": "stream",
     "text": [
      "_________________________________________________________________\n",
      "Layer (type)                 Output Shape              Param #   \n",
      "=================================================================\n",
      "conv2d_1 (Conv2D)            (None, 148, 148, 32)      896       \n",
      "_________________________________________________________________\n",
      "max_pooling2d_1 (MaxPooling2 (None, 74, 74, 32)        0         \n",
      "_________________________________________________________________\n",
      "conv2d_2 (Conv2D)            (None, 72, 72, 64)        18496     \n",
      "_________________________________________________________________\n",
      "max_pooling2d_2 (MaxPooling2 (None, 36, 36, 64)        0         \n",
      "_________________________________________________________________\n",
      "conv2d_3 (Conv2D)            (None, 34, 34, 128)       73856     \n",
      "_________________________________________________________________\n",
      "max_pooling2d_3 (MaxPooling2 (None, 17, 17, 128)       0         \n",
      "_________________________________________________________________\n",
      "conv2d_4 (Conv2D)            (None, 15, 15, 128)       147584    \n",
      "_________________________________________________________________\n",
      "max_pooling2d_4 (MaxPooling2 (None, 7, 7, 128)         0         \n",
      "_________________________________________________________________\n",
      "flatten_1 (Flatten)          (None, 6272)              0         \n",
      "_________________________________________________________________\n",
      "dense_1 (Dense)              (None, 512)               3211776   \n",
      "_________________________________________________________________\n",
      "dense_2 (Dense)              (None, 5)                 2565      \n",
      "=================================================================\n",
      "Total params: 3,455,173\n",
      "Trainable params: 3,455,173\n",
      "Non-trainable params: 0\n",
      "_________________________________________________________________\n"
     ]
    }
   ],
   "source": [
    "model.summary()"
   ]
  },
  {
   "cell_type": "code",
   "execution_count": 8,
   "metadata": {},
   "outputs": [
    {
     "name": "stdout",
     "output_type": "stream",
     "text": [
      "Found 250 images belonging to 5 classes.\n",
      "Found 60 images belonging to 5 classes.\n",
      "WARNING:tensorflow:From C:\\ProgramData\\Anaconda3\\lib\\site-packages\\tensorflow\\python\\ops\\math_ops.py:3066: to_int32 (from tensorflow.python.ops.math_ops) is deprecated and will be removed in a future version.\n",
      "Instructions for updating:\n",
      "Use tf.cast instead.\n",
      "Epoch 1/2\n",
      "100/100 [==============================] - 26s 258ms/step - loss: 0.3260 - acc: 0.9100 - val_loss: 0.0318 - val_acc: 1.0000\n",
      "Epoch 2/2\n",
      "100/100 [==============================] - 27s 267ms/step - loss: 0.0093 - acc: 0.9960 - val_loss: 0.0111 - val_acc: 1.0000\n"
     ]
    }
   ],
   "source": [
    "from keras import optimizers\n",
    "model.compile(loss='categorical_crossentropy',\n",
    "optimizer=optimizers.RMSprop(lr=1e-4),\n",
    "metrics=['acc'])\n",
    "\n",
    "from keras.preprocessing.image import ImageDataGenerator\n",
    "train_datagen = ImageDataGenerator(rescale=1./255)\n",
    "test_datagen = ImageDataGenerator(rescale=1./255)\n",
    "train_generator = train_datagen.flow_from_directory(\n",
    "    train_dir,\n",
    "    target_size=(150, 150),\n",
    "    batch_size=5,\n",
    "    class_mode='categorical')\n",
    "\n",
    "validation_generator = test_datagen.flow_from_directory(\n",
    "    validation_dir,\n",
    "    target_size=(150, 150),\n",
    "    batch_size=5,\n",
    "    class_mode='categorical')\n",
    "\n",
    "history = model.fit_generator(\n",
    "    train_generator,\n",
    "    steps_per_epoch=100,\n",
    "    epochs=2,\n",
    "    validation_data=validation_generator,\n",
    "    validation_steps=3)"
   ]
  },
  {
   "cell_type": "code",
   "execution_count": 9,
   "metadata": {},
   "outputs": [
    {
     "name": "stdout",
     "output_type": "stream",
     "text": [
      "Found 50 images belonging to 5 classes.\n"
     ]
    }
   ],
   "source": [
    "test_generator = test_datagen.flow_from_directory(\n",
    "    test_dir,\n",
    "    target_size=(150, 150),\n",
    "    batch_size=50,\n",
    "    class_mode='categorical')"
   ]
  },
  {
   "cell_type": "code",
   "execution_count": 12,
   "metadata": {},
   "outputs": [
    {
     "name": "stdout",
     "output_type": "stream",
     "text": [
      "\r",
      "1/1 [==============================] - 0s 199ms/step\n"
     ]
    }
   ],
   "source": [
    "pred = model.predict_generator(test_generator, steps=1, verbose=1)"
   ]
  }
 ],
 "metadata": {
  "kernelspec": {
   "display_name": "Python 3",
   "language": "python",
   "name": "python3"
  },
  "language_info": {
   "codemirror_mode": {
    "name": "ipython",
    "version": 3
   },
   "file_extension": ".py",
   "mimetype": "text/x-python",
   "name": "python",
   "nbconvert_exporter": "python",
   "pygments_lexer": "ipython3",
   "version": "3.7.1"
  }
 },
 "nbformat": 4,
 "nbformat_minor": 2
}
