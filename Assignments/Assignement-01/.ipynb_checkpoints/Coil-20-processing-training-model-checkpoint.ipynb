{
 "cells": [
  {
   "cell_type": "code",
   "execution_count": 1,
   "metadata": {},
   "outputs": [
    {
     "name": "stderr",
     "output_type": "stream",
     "text": [
      "Using TensorFlow backend.\n"
     ]
    },
    {
     "data": {
      "text/plain": [
       "'2.3.1'"
      ]
     },
     "execution_count": 1,
     "metadata": {},
     "output_type": "execute_result"
    }
   ],
   "source": [
    "import keras\n",
    "keras.__version__"
   ]
  },
  {
   "cell_type": "code",
   "execution_count": 4,
   "metadata": {},
   "outputs": [],
   "source": [
    "import os\n",
    "import shutil\n",
    "\n",
    "original_dataset_dir = 'coil-20-unproc'"
   ]
  },
  {
   "cell_type": "code",
   "execution_count": 5,
   "metadata": {},
   "outputs": [],
   "source": [
    "#base directory for processed data in the folder\n",
    "base_dir = 'coil20_proc'\n",
    "if not ((os.path.exists(base_dir))):\n",
    "    os.mkdir(base_dir)\n",
    "\n",
    "#directory for the training data\n",
    "train_dir = os.path.join(base_dir,'train')\n",
    "os.mkdir(train_dir)\n",
    "\n",
    "#directory for testing data\n",
    "test_dir = os.path.join(base_dir,'test')\n",
    "os.mkdir(test_dir)\n",
    "\n",
    "#directory for validating the data\n",
    "validate_dir = os.path.join(base_dir,'validate')\n",
    "os.mkdir(validate_dir)\n",
    "\n",
    "#-------------------------------------Training----------------------------------------------#\n",
    "\n",
    "#directory for the photos of object 1 (training)\n",
    "train_dir_obj1 = os.path.join(train_dir,'object1')\n",
    "os.mkdir(train_dir_obj1)\n",
    "\n",
    "#directory for the photos of the object2 (training)\n",
    "train_dir_obj2 = os.path.join(train_dir,'object2')\n",
    "os.mkdir(train_dir_obj2)\n",
    "\n",
    "#directory for the photos of the object3 (training)\n",
    "train_dir_obj3 = os.path.join(train_dir,'object3')\n",
    "os.mkdir(train_dir_obj3)\n",
    "\n",
    "#directory for the photos of the object2 (training)\n",
    "train_dir_obj4 = os.path.join(train_dir,'object4')\n",
    "os.mkdir(train_dir_obj4)\n",
    "\n",
    "#directory for the photos of the object2 (training)\n",
    "train_dir_obj5 = os.path.join(train_dir,'object5')\n",
    "os.mkdir(train_dir_obj5)\n",
    "\n",
    "#------------------------------Validating--------------------------------------------------#\n",
    "\n",
    "#directory for the photos of object 1 (validating)\n",
    "validate_dir_obj1 = os.path.join(validate_dir,'object1')\n",
    "os.mkdir(validate_dir_obj1)\n",
    "\n",
    "#directory for the photos of the object2 (validating)\n",
    "validate_dir_obj2 = os.path.join(validate_dir,'object2')\n",
    "os.mkdir(validate_dir_obj2)\n",
    "\n",
    "#directory for the photos of the object3 (validating)\n",
    "validate_dir_obj3 = os.path.join(validate_dir,'object3')\n",
    "os.mkdir(validate_dir_obj3)\n",
    "\n",
    "#directory for the photos of the object2 (validating)\n",
    "validate_dir_obj4 = os.path.join(validate_dir,'object4')\n",
    "os.mkdir(validate_dir_obj4)\n",
    "\n",
    "#directory for the photos of the object2 (validating)\n",
    "validate_dir_obj5 = os.path.join(validate_dir,'object5')\n",
    "os.mkdir(validate_dir_obj5)\n",
    "\n",
    "#----------------------------------------Testing-----------------------------------------------#\n",
    "\n",
    "#directory for the photos of object 1 (testing)\n",
    "test_dir_obj1 = os.path.join(test_dir,'object1')\n",
    "os.mkdir(test_dir_obj1)\n",
    "\n",
    "#directory for the photos of the object2 (testing)\n",
    "test_dir_obj2 = os.path.join(test_dir,'object2')\n",
    "os.mkdir(test_dir_obj2)\n",
    "\n",
    "#directory for the photos of the object3 (testing)\n",
    "test_dir_obj3 = os.path.join(test_dir,'object3')\n",
    "os.mkdir(test_dir_obj3)\n",
    "\n",
    "#directory for the photos of the object2 (testing)\n",
    "test_dir_obj4 = os.path.join(test_dir,'object4')\n",
    "os.mkdir(test_dir_obj4)\n",
    "\n",
    "#directory for the photos of the object2 (testing)\n",
    "test_dir_obj5 = os.path.join(test_dir,'object5')\n",
    "os.mkdir(test_dir_obj5)\n"
   ]
  },
  {
   "cell_type": "code",
   "execution_count": 6,
   "metadata": {},
   "outputs": [],
   "source": [
    "#copy first 57 pictures of object1 to train_dir_obj1\n",
    "fnames = ['obj1__{}.png'.format(i) for i in range(58)]\n",
    "for fname in fnames:\n",
    "    src = os.path.join(original_dataset_dir,fname)\n",
    "    dest = os.path.join(train_dir_obj1,fname)\n",
    "    shutil.copy(src,dest)\n",
    "\n",
    "#copy next 8 pictures of object1 to validate_dir_obj1\n",
    "fnames = ['obj1__{}.png'.format(i) for i in range(58,65)]\n",
    "for fname in fnames:\n",
    "    src = os.path.join(original_dataset_dir,fname)\n",
    "    dest = os.path.join(validate_dir_obj1,fname)\n",
    "    shutil.copy(src,dest)\n",
    "\n",
    "#copy next 7 images of object1 to test_dir_obj1\n",
    "fnames = ['obj1__{}.png'.format(i) for i in range(65,72)]\n",
    "for fname in fnames:\n",
    "    src = os.path.join(original_dataset_dir,fname)\n",
    "    dest = os.path.join(test_dir_obj1,fname)\n",
    "    shutil.copy(src,dest)\n",
    "#-----------------------------------------------------------------------------------\n",
    "\n",
    "#copy first 57 pictures of object1 to train_dir_obj1\n",
    "fnames = ['obj2__{}.png'.format(i) for i in range(58)]\n",
    "for fname in fnames:\n",
    "    src = os.path.join(original_dataset_dir,fname)\n",
    "    dest = os.path.join(train_dir_obj2,fname)\n",
    "    shutil.copy(src,dest)\n",
    "\n",
    "#copy next 8 pictures of object1 to validate_dir_obj1\n",
    "fnames = ['obj2__{}.png'.format(i) for i in range(58,65)]\n",
    "for fname in fnames:\n",
    "    src = os.path.join(original_dataset_dir,fname)\n",
    "    dest = os.path.join(validate_dir_obj2,fname)\n",
    "    shutil.copy(src,dest)\n",
    "\n",
    "#copy next 7 images of object1 to test_dir_obj1\n",
    "fnames = ['obj2__{}.png'.format(i) for i in range(65,72)]\n",
    "for fname in fnames:\n",
    "    src = os.path.join(original_dataset_dir,fname)\n",
    "    dest = os.path.join(test_dir_obj2,fname)\n",
    "    shutil.copy(src,dest)\n",
    "#-----------------------------------------------------------------------------------\n",
    "\n",
    "#copy first 57 pictures of object1 to train_dir_obj1\n",
    "fnames = ['obj3__{}.png'.format(i) for i in range(58)]\n",
    "for fname in fnames:\n",
    "    src = os.path.join(original_dataset_dir,fname)\n",
    "    dest = os.path.join(train_dir_obj3,fname)\n",
    "    shutil.copy(src,dest)\n",
    "\n",
    "#copy next 8 pictures of object1 to validate_dir_obj1\n",
    "fnames = ['obj3__{}.png'.format(i) for i in range(58,65)]\n",
    "for fname in fnames:\n",
    "    src = os.path.join(original_dataset_dir,fname)\n",
    "    dest = os.path.join(validate_dir_obj3,fname)\n",
    "    shutil.copy(src,dest)\n",
    "\n",
    "#copy next 7 images of object1 to test_dir_obj1\n",
    "fnames = ['obj3__{}.png'.format(i) for i in range(65,72)]\n",
    "for fname in fnames:\n",
    "    src = os.path.join(original_dataset_dir,fname)\n",
    "    dest = os.path.join(test_dir_obj3,fname)\n",
    "    shutil.copy(src,dest)\n",
    "#-----------------------------------------------------------------------------------\n",
    "\n",
    "#copy first 57 pictures of object1 to train_dir_obj1\n",
    "fnames = ['obj4__{}.png'.format(i) for i in range(58)]\n",
    "for fname in fnames:\n",
    "    src = os.path.join(original_dataset_dir,fname)\n",
    "    dest = os.path.join(train_dir_obj4,fname)\n",
    "    shutil.copy(src,dest)\n",
    "\n",
    "#copy next 8 pictures of object1 to validate_dir_obj1\n",
    "fnames = ['obj4__{}.png'.format(i) for i in range(58,65)]\n",
    "for fname in fnames:\n",
    "    src = os.path.join(original_dataset_dir,fname)\n",
    "    dest = os.path.join(validate_dir_obj4,fname)\n",
    "    shutil.copy(src,dest)\n",
    "\n",
    "#copy next 7 images of object1 to test_dir_obj1\n",
    "fnames = ['obj4__{}.png'.format(i) for i in range(65,72)]\n",
    "for fname in fnames:\n",
    "    src = os.path.join(original_dataset_dir,fname)\n",
    "    dest = os.path.join(test_dir_obj4,fname)\n",
    "    shutil.copy(src,dest)\n",
    "#-----------------------------------------------------------------------------------\n",
    "\n",
    "#copy first 57 pictures of object1 to train_dir_obj1\n",
    "fnames = ['obj5__{}.png'.format(i) for i in range(58)]\n",
    "for fname in fnames:\n",
    "    src = os.path.join(original_dataset_dir,fname)\n",
    "    dest = os.path.join(train_dir_obj5,fname)\n",
    "    shutil.copy(src,dest)\n",
    "\n",
    "#copy next 8 pictures of object1 to validate_dir_obj1\n",
    "fnames = ['obj5__{}.png'.format(i) for i in range(58,65)]\n",
    "for fname in fnames:\n",
    "    src = os.path.join(original_dataset_dir,fname)\n",
    "    dest = os.path.join(validate_dir_obj5,fname)\n",
    "    shutil.copy(src,dest)\n",
    "\n",
    "#copy next 7 images of object1 to test_dir_obj1\n",
    "fnames = ['obj5__{}.png'.format(i) for i in range(65,72)]\n",
    "for fname in fnames:\n",
    "    src = os.path.join(original_dataset_dir,fname)\n",
    "    dest = os.path.join(test_dir_obj5,fname)\n",
    "    shutil.copy(src,dest)\n"
   ]
  },
  {
   "cell_type": "code",
   "execution_count": 61,
   "metadata": {},
   "outputs": [],
   "source": [
    "from keras import layers\n",
    "from keras import models\n",
    "\n",
    "model = models.Sequential()\n",
    "model.add(layers.Conv2D(32, (3,3), activation='relu', input_shape=(150,150,3)))\n",
    "model.add(layers.MaxPooling2D((2,2)))\n",
    "model.add(layers.Conv2D(64, (3, 3), activation='relu'))\n",
    "model.add(layers.MaxPooling2D((2, 2)))\n",
    "model.add(layers.Conv2D(128, (3, 3), activation='relu'))\n",
    "model.add(layers.MaxPooling2D((2, 2)))\n",
    "model.add(layers.Conv2D(128, (3, 3), activation='relu'))\n",
    "model.add(layers.MaxPooling2D((2, 2)))\n",
    "model.add(layers.Flatten())\n",
    "model.add(layers.Dense(512, activation='relu'))\n",
    "model.add(layers.Dense(5, activation='softmax'))\n"
   ]
  },
  {
   "cell_type": "code",
   "execution_count": 62,
   "metadata": {},
   "outputs": [
    {
     "name": "stdout",
     "output_type": "stream",
     "text": [
      "Model: \"sequential_8\"\n",
      "_________________________________________________________________\n",
      "Layer (type)                 Output Shape              Param #   \n",
      "=================================================================\n",
      "conv2d_29 (Conv2D)           (None, 148, 148, 32)      896       \n",
      "_________________________________________________________________\n",
      "max_pooling2d_29 (MaxPooling (None, 74, 74, 32)        0         \n",
      "_________________________________________________________________\n",
      "conv2d_30 (Conv2D)           (None, 72, 72, 64)        18496     \n",
      "_________________________________________________________________\n",
      "max_pooling2d_30 (MaxPooling (None, 36, 36, 64)        0         \n",
      "_________________________________________________________________\n",
      "conv2d_31 (Conv2D)           (None, 34, 34, 128)       73856     \n",
      "_________________________________________________________________\n",
      "max_pooling2d_31 (MaxPooling (None, 17, 17, 128)       0         \n",
      "_________________________________________________________________\n",
      "conv2d_32 (Conv2D)           (None, 15, 15, 128)       147584    \n",
      "_________________________________________________________________\n",
      "max_pooling2d_32 (MaxPooling (None, 7, 7, 128)         0         \n",
      "_________________________________________________________________\n",
      "flatten_8 (Flatten)          (None, 6272)              0         \n",
      "_________________________________________________________________\n",
      "dense_15 (Dense)             (None, 512)               3211776   \n",
      "_________________________________________________________________\n",
      "dense_16 (Dense)             (None, 5)                 2565      \n",
      "=================================================================\n",
      "Total params: 3,455,173\n",
      "Trainable params: 3,455,173\n",
      "Non-trainable params: 0\n",
      "_________________________________________________________________\n"
     ]
    }
   ],
   "source": [
    "model.summary()"
   ]
  },
  {
   "cell_type": "code",
   "execution_count": 63,
   "metadata": {},
   "outputs": [],
   "source": [
    "from keras import optimizers\n",
    "\n",
    "model.compile(loss='categorical_crossentropy',\n",
    "              optimizer='rmsprop',#optimizers.RMSprop(lr=1e-4),\n",
    "              metrics=['acc'])"
   ]
  },
  {
   "cell_type": "code",
   "execution_count": 64,
   "metadata": {},
   "outputs": [
    {
     "name": "stdout",
     "output_type": "stream",
     "text": [
      "Found 290 images belonging to 5 classes.\n",
      "Found 35 images belonging to 5 classes.\n"
     ]
    }
   ],
   "source": [
    "from keras.preprocessing.image import ImageDataGenerator\n",
    "\n",
    "# All images will be rescaled by 1./255\n",
    "train_datagen = ImageDataGenerator(rescale=1./255)\n",
    "test_datagen = ImageDataGenerator(rescale=1./255)\n",
    "\n",
    "train_generator = train_datagen.flow_from_directory(\n",
    "        # This is the target directory\n",
    "        train_dir,\n",
    "        # All images will be resized to 150x150\n",
    "        target_size=(150, 150),\n",
    "        batch_size=10,\n",
    "        # Since we use binary_crossentropy loss, we need binary labels\n",
    "        class_mode='categorical')\n",
    "\n",
    "validation_generator = test_datagen.flow_from_directory(\n",
    "        validate_dir,\n",
    "        target_size=(150, 150),\n",
    "        batch_size=10,\n",
    "        class_mode='categorical')"
   ]
  },
  {
   "cell_type": "code",
   "execution_count": 65,
   "metadata": {},
   "outputs": [
    {
     "name": "stdout",
     "output_type": "stream",
     "text": [
      "Epoch 1/5\n",
      "5/5 [==============================] - 2s 411ms/step - loss: 1.8939 - acc: 0.2000 - val_loss: 1.1801 - val_acc: 0.6500\n",
      "Epoch 2/5\n",
      "5/5 [==============================] - 2s 359ms/step - loss: 1.1845 - acc: 0.6200 - val_loss: 0.4279 - val_acc: 0.8000\n",
      "Epoch 3/5\n",
      "5/5 [==============================] - 2s 378ms/step - loss: 0.2023 - acc: 0.9600 - val_loss: 0.1722 - val_acc: 0.8500\n",
      "Epoch 4/5\n",
      "5/5 [==============================] - 2s 370ms/step - loss: 0.0396 - acc: 1.0000 - val_loss: 0.0220 - val_acc: 1.0000\n",
      "Epoch 5/5\n",
      "5/5 [==============================] - 2s 488ms/step - loss: 0.0033 - acc: 1.0000 - val_loss: 0.0091 - val_acc: 1.0000\n"
     ]
    }
   ],
   "source": [
    "history = model.fit_generator(\n",
    "      train_generator,\n",
    "      steps_per_epoch=5,\n",
    "      epochs=5,\n",
    "      validation_data=validation_generator,\n",
    "      validation_steps=2)"
   ]
  },
  {
   "cell_type": "code",
   "execution_count": 67,
   "metadata": {},
   "outputs": [],
   "source": [
    "model.save('objects.h5')"
   ]
  },
  {
   "cell_type": "code",
   "execution_count": 66,
   "metadata": {},
   "outputs": [
    {
     "data": {
      "image/png": "[encoded data removed]",
      "text/plain": [
       "<Figure size 432x288 with 1 Axes>"
      ]
     },
     "metadata": {
      "needs_background": "light"
     },
     "output_type": "display_data"
    },
    {
     "data": {
      "image/png": "[encoded data removed]",
      "text/plain": [
       "<Figure size 432x288 with 1 Axes>"
      ]
     },
     "metadata": {
      "needs_background": "light"
     },
     "output_type": "display_data"
    }
   ],
   "source": [
    "import matplotlib.pyplot as plt\n",
    "\n",
    "acc = history.history['acc']\n",
    "val_acc = history.history['val_acc']\n",
    "loss = history.history['loss']\n",
    "val_loss = history.history['val_loss']\n",
    "\n",
    "epochs = range(len(acc))\n",
    "\n",
    "plt.plot(epochs, acc, 'bo', label='Training acc')\n",
    "plt.plot(epochs, val_acc, 'b', label='Validation_acc')\n",
    "plt.title('Training and validation accuracy')\n",
    "plt.legend()\n",
    "\n",
    "plt.figure()\n",
    "\n",
    "plt.plot(epochs, loss, 'bo', label='Training loss')\n",
    "plt.plot(epochs, val_loss, 'b', label='Validation loss')\n",
    "plt.title('Training and validation loss')\n",
    "plt.legend()\n",
    "\n",
    "plt.show()"
   ]
  },
  {
   "cell_type": "code",
   "execution_count": 98,
   "metadata": {},
   "outputs": [
    {
     "ename": "TypeError",
     "evalue": "'tuple' object is not callable",
     "output_type": "error",
     "traceback": [
      "\u001b[0;31m---------------------------------------------------------------------------\u001b[0m",
      "\u001b[0;31mTypeError\u001b[0m                                 Traceback (most recent call last)",
      "\u001b[0;32m<ipython-input-98-75beee8b3e4d>\u001b[0m in \u001b[0;36m<module>\u001b[0;34m\u001b[0m\n\u001b[1;32m      8\u001b[0m \u001b[0mp\u001b[0m \u001b[0;34m=\u001b[0m \u001b[0mos\u001b[0m\u001b[0;34m.\u001b[0m\u001b[0mpath\u001b[0m\u001b[0;34m.\u001b[0m\u001b[0mjoin\u001b[0m\u001b[0;34m(\u001b[0m\u001b[0mtest_dir_obj1\u001b[0m\u001b[0;34m,\u001b[0m\u001b[0;34m'obj1__65.png'\u001b[0m\u001b[0;34m)\u001b[0m\u001b[0;34m\u001b[0m\u001b[0;34m\u001b[0m\u001b[0m\n\u001b[1;32m      9\u001b[0m \u001b[0msample\u001b[0m \u001b[0;34m=\u001b[0m \u001b[0mcv2\u001b[0m\u001b[0;34m.\u001b[0m\u001b[0mimread\u001b[0m\u001b[0;34m(\u001b[0m\u001b[0mp\u001b[0m\u001b[0;34m,\u001b[0m\u001b[0;36m0\u001b[0m\u001b[0;34m)\u001b[0m\u001b[0;34m\u001b[0m\u001b[0;34m\u001b[0m\u001b[0m\n\u001b[0;32m---> 10\u001b[0;31m \u001b[0ma\u001b[0m \u001b[0;34m=\u001b[0m \u001b[0msample\u001b[0m\u001b[0;34m.\u001b[0m\u001b[0mshape\u001b[0m\u001b[0;34m(\u001b[0m\u001b[0;36m150\u001b[0m\u001b[0;34m,\u001b[0m\u001b[0;36m150\u001b[0m\u001b[0;34m,\u001b[0m\u001b[0;36m3\u001b[0m\u001b[0;34m)\u001b[0m\u001b[0;34m\u001b[0m\u001b[0;34m\u001b[0m\u001b[0m\n\u001b[0m\u001b[1;32m     11\u001b[0m \u001b[0;34m\u001b[0m\u001b[0m\n\u001b[1;32m     12\u001b[0m \u001b[0mprediction\u001b[0m \u001b[0;34m=\u001b[0m \u001b[0mclassifier\u001b[0m\u001b[0;34m.\u001b[0m\u001b[0mpredict\u001b[0m\u001b[0;34m(\u001b[0m\u001b[0ma\u001b[0m\u001b[0;34m,\u001b[0m \u001b[0mbatch_size\u001b[0m\u001b[0;34m=\u001b[0m\u001b[0;32mNone\u001b[0m\u001b[0;34m)\u001b[0m\u001b[0;34m\u001b[0m\u001b[0;34m\u001b[0m\u001b[0m\n",
      "\u001b[0;31mTypeError\u001b[0m: 'tuple' object is not callable"
     ]
    }
   ],
   "source": [
    "# Predicting\n",
    "from tensorflow.keras.models import load_model\n",
    "import numpy as np\n",
    "import cv2\n",
    "\n",
    "classifier = load_model('objects.h5')\n",
    "\n",
    "p = os.path.join(test_dir_obj1,'obj1__65.png')\n",
    "sample = cv2.imread(p,0)\n",
    "a = sample.shape(150,150,3)\n",
    "\n",
    "prediction = classifier.predict(a, batch_size=None)\n",
    "\n",
    "print(prediction)\n",
    "\n",
    "print(np.argmax(prediction))\n",
    "print()"
   ]
  },
  {
   "cell_type": "code",
   "execution_count": null,
   "metadata": {},
   "outputs": [],
   "source": []
  },
  {
   "cell_type": "code",
   "execution_count": null,
   "metadata": {},
   "outputs": [],
   "source": []
  }
 ],
 "metadata": {
  "kernelspec": {
   "display_name": "Python 3",
   "language": "python",
   "name": "python3"
  },
  "language_info": {
   "codemirror_mode": {
    "name": "ipython",
    "version": 3
   },
   "file_extension": ".py",
   "mimetype": "text/x-python",
   "name": "python",
   "nbconvert_exporter": "python",
   "pygments_lexer": "ipython3",
   "version": "3.7.3"
  }
 },
 "nbformat": 4,
 "nbformat_minor": 2
}
