{
 "cells": [
  {
   "cell_type": "code",
   "execution_count": 6,
   "metadata": {},
   "outputs": [],
   "source": [
    "import keras\n",
    "import shutil\n",
    "import os"
   ]
  },
  {
   "cell_type": "code",
   "execution_count": 15,
   "metadata": {},
   "outputs": [],
   "source": [
    "path = 'caltech-original-prepared'\n",
    "val_dir = os.path.join(path,'val')\n",
    "\n",
    "if not((os.path.exists(val_dir))):\n",
    "    os.mkdir(val_dir)\n",
    "    print(val_dir,'created...')"
   ]
  },
  {
   "cell_type": "code",
   "execution_count": 16,
   "metadata": {},
   "outputs": [],
   "source": [
    "train_dir = os.path.join(path,'train')\n",
    "classes = os.listdir(train_dir)"
   ]
  },
  {
   "cell_type": "code",
   "execution_count": 17,
   "metadata": {},
   "outputs": [],
   "source": [
    "for i in classes:\n",
    "    tmp = os.path.join(val_dir,i)\n",
    "    if not(os.path.exists(tmp)):\n",
    "        os.mkdir(tmp)"
   ]
  },
  {
   "cell_type": "code",
   "execution_count": 19,
   "metadata": {},
   "outputs": [
    {
     "name": "stdout",
     "output_type": "stream",
     "text": [
      "trilobite 13\n",
      "pizza 8\n",
      "umbrella 11\n",
      "cup 9\n",
      "rhino 9\n",
      "joshua_tree 10\n",
      "emu 8\n",
      "panda 6\n",
      "strawberry 5\n",
      "Faces_easy 65\n",
      "platypus 5\n",
      "stapler 7\n",
      "crayfish 10\n",
      "chair 9\n",
      "dolphin 10\n",
      "elephant 10\n",
      "mandolin 6\n",
      "tick 7\n",
      "euphonium 10\n",
      "snoopy 5\n",
      "chandelier 16\n",
      "pyramid 9\n",
      "octopus 5\n",
      "bonsai 19\n",
      "scissors 6\n",
      "flamingo_head 7\n",
      "gramophone 8\n",
      "ant 6\n",
      "Motorbikes 120\n",
      "dalmatian 10\n",
      "Faces 65\n",
      "pagoda 7\n",
      "saxophone 6\n",
      "Leopards 30\n",
      "ketch 17\n",
      "inline_skate 5\n",
      "stegosaurus 9\n",
      "butterfly 15\n",
      "accordion 8\n",
      "ewer 13\n",
      "rooster 7\n",
      "hedgehog 8\n",
      "bass 8\n",
      "crab 11\n",
      "scorpion 13\n",
      "dollar_bill 8\n",
      "mayfly 6\n",
      "airplanes 120\n",
      "grand_piano 15\n",
      "binocular 5\n",
      "crocodile 8\n",
      "schooner 9\n",
      "watch 36\n",
      "kangaroo 13\n",
      "lotus 10\n",
      "flamingo 10\n",
      "camera 8\n",
      "pigeon 7\n",
      "wheelchair 9\n",
      "ibis 12\n",
      "gerenuk 5\n",
      "dragonfly 10\n",
      "cellphone 9\n",
      "car_side 18\n",
      "minaret 11\n",
      "headphone 6\n",
      "water_lilly 6\n",
      "starfish 13\n",
      "nautilus 8\n",
      "barrel 7\n",
      "cannon 6\n",
      "ferry 10\n",
      "soccer_ball 10\n",
      "okapi 6\n",
      "menorah 13\n",
      "sunflower 13\n",
      "helicopter 13\n",
      "sea_horse 9\n",
      "anchor 7\n",
      "ceiling_fan 7\n",
      "wrench 6\n",
      "garfield 5\n",
      "metronome 5\n",
      "cougar_body 7\n",
      "yin_yang 9\n",
      "brain 15\n",
      "stop_sign 10\n",
      "lobster 6\n",
      "lamp 9\n",
      "revolver 12\n",
      "hawksbill 15\n",
      "beaver 7\n",
      "buddha 13\n",
      "windsor_chair 8\n",
      "brontosaurus 6\n",
      "cougar_face 10\n",
      "electric_guitar 11\n",
      "llama 12\n",
      "laptop 12\n",
      "wild_cat 5\n",
      "crocodile_head 8\n"
     ]
    }
   ],
   "source": [
    "test_dir = os.path.join(path,'test')\n",
    "\n",
    "for i in range(len(classes)):\n",
    "    instances = len(os.listdir(os.path.join(test_dir,classes[i])))\n",
    "    print(classes[i], instances)\n",
    "    "
   ]
  },
  {
   "cell_type": "code",
   "execution_count": null,
   "metadata": {},
   "outputs": [],
   "source": []
  }
 ],
 "metadata": {
  "kernelspec": {
   "display_name": "Python 3",
   "language": "python",
   "name": "python3"
  },
  "language_info": {
   "codemirror_mode": {
    "name": "ipython",
    "version": 3
   },
   "file_extension": ".py",
   "mimetype": "text/x-python",
   "name": "python",
   "nbconvert_exporter": "python",
   "pygments_lexer": "ipython3",
   "version": "3.7.3"
  }
 },
 "nbformat": 4,
 "nbformat_minor": 2
}
